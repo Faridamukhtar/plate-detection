{
 "cells": [
  {
   "cell_type": "code",
   "execution_count": 6,
   "metadata": {},
   "outputs": [],
   "source": [
    "from commonfunctions import *"
   ]
  },
  {
   "cell_type": "code",
   "execution_count": 7,
   "metadata": {},
   "outputs": [],
   "source": [
    "from sklearn.neighbors import KNeighborsClassifier\n",
    "from sklearn.neural_network import MLPClassifier  # MLP is an NN\n",
    "from sklearn import svm\n",
    "import numpy as np\n",
    "import argparse\n",
    "import cv2\n",
    "import os\n",
    "import random\n",
    "\n",
    "\n",
    "# Depending on library versions on your system, one of the following imports \n",
    "from sklearn.model_selection import train_test_split\n",
    "#from sklearn.cross_validation import train_test_split"
   ]
  },
  {
   "cell_type": "code",
   "execution_count": 8,
   "metadata": {},
   "outputs": [],
   "source": [
    "path_to_dataset = r'digits_dataset'\n",
    "target_img_size = (32, 32) # fix image size because classification algorithms THAT WE WILL USE HERE expect that\n",
    "\n",
    "# We are going to fix the random seed to make our experiments reproducible \n",
    "# since some algorithms use pseudorandom generators\n",
    "random_seed = 42  \n",
    "random.seed(random_seed)\n",
    "np.random.seed(random_seed)"
   ]
  },
  {
   "cell_type": "code",
   "execution_count": 9,
   "metadata": {},
   "outputs": [],
   "source": [
    "def extract_hog_features(img):\n",
    "    \"\"\"\n",
    "    TODO\n",
    "    You won't implement anything in this function. You just need to understand it \n",
    "    and understand its parameters (i.e win_size, cell_size, ... etc)\n",
    "    \"\"\"\n",
    "    img = cv2.resize(img, target_img_size)\n",
    "    win_size = (32, 32)\n",
    "    cell_size = (4, 4)\n",
    "    block_size_in_cells = (2, 2)\n",
    "    \n",
    "    block_size = (block_size_in_cells[1] * cell_size[1], block_size_in_cells[0] * cell_size[0])\n",
    "    block_stride = (cell_size[1], cell_size[0])\n",
    "    nbins = 9  # Number of orientation bins\n",
    "    hog = cv2.HOGDescriptor(win_size, block_size, block_stride, cell_size, nbins)\n",
    "    h = hog.compute(img)\n",
    "    h = h.flatten()\n",
    "    return h.flatten()"
   ]
  },
  {
   "cell_type": "code",
   "execution_count": 10,
   "metadata": {},
   "outputs": [],
   "source": [
    "def load_dataset():\n",
    "    features = []\n",
    "    labels = []\n",
    "\n",
    "    # Iterate through subfolders (assume folder name is the label)\n",
    "    for label_folder in os.listdir(path_to_dataset):\n",
    "        label_path = os.path.join(path_to_dataset, label_folder)\n",
    "        \n",
    "        # Ensure it's a directory (skip files)\n",
    "        if not os.path.isdir(label_path):\n",
    "            continue\n",
    "        \n",
    "        # Extract label from the folder name\n",
    "        label = label_folder\n",
    "        \n",
    "        # Iterate through the images in the folder\n",
    "        for img_filename in os.listdir(label_path):\n",
    "            if img_filename.lower().endswith('.jpg'):  # Process only .jpg files\n",
    "                img_path = os.path.join(label_path, img_filename)\n",
    "                \n",
    "                # Read image\n",
    "                img = cv2.imread(img_path)\n",
    "                \n",
    "                # Extract features (e.g., HOG features)\n",
    "                features.append(extract_hog_features(img))\n",
    "                \n",
    "                # Append the label\n",
    "                labels.append(label)\n",
    "                \n",
    "                # Show an update every 1,000 images\n",
    "                if len(features) % 1000 == 0:\n",
    "                    print(f\"[INFO] Processed {len(features)} images so far.\")\n",
    "\n",
    "    return features, labels\n"
   ]
  },
  {
   "cell_type": "code",
   "execution_count": 11,
   "metadata": {},
   "outputs": [],
   "source": [
    "# TODO understand the hyperparameters of each classifier\n",
    "classifiers = {\n",
    "    # 'SVM': svm.LinearSVC(random_state=random_seed),\n",
    "    'KNN': KNeighborsClassifier(n_neighbors=7)\n",
    "    # 'NN': MLPClassifier(solver='sgd', random_state=random_seed, hidden_layer_sizes=(500,), max_iter=20, verbose=1)\n",
    "}"
   ]
  },
  {
   "cell_type": "code",
   "execution_count": 12,
   "metadata": {},
   "outputs": [],
   "source": [
    "# This function will test all our classifiers on a specific feature set\n",
    "def run_experiment():\n",
    "    \n",
    "    # Load dataset with extracted features\n",
    "    print('Loading dataset. This will take time ...')\n",
    "    features, labels = load_dataset()\n",
    "    print('Finished loading dataset.')\n",
    "    \n",
    "    # Since we don't want to know the performance of our classifier on images it has seen before\n",
    "    # we are going to withhold some images that we will test the classifier on after training \n",
    "    train_features, test_features, train_labels, test_labels = train_test_split(\n",
    "        features, labels, test_size=0.2, random_state=random_seed)\n",
    "    \n",
    "    for model_name, model in classifiers.items():\n",
    "        print('############## Training', model_name, \"##############\")\n",
    "        # Train the model only on the training features\n",
    "        model.fit(train_features, train_labels)\n",
    "        \n",
    "        # Test the model on images it hasn't seen before\n",
    "        accuracy = model.score(test_features, test_labels)\n",
    "        \n",
    "        print(model_name, 'accuracy:', accuracy*100, '%')"
   ]
  },
  {
   "cell_type": "code",
   "execution_count": 13,
   "metadata": {},
   "outputs": [
    {
     "name": "stdout",
     "output_type": "stream",
     "text": [
      "Loading dataset. This will take time ...\n",
      "[INFO] Processed 1000 images so far.\n",
      "[INFO] Processed 2000 images so far.\n",
      "[INFO] Processed 3000 images so far.\n",
      "[INFO] Processed 4000 images so far.\n",
      "[INFO] Processed 5000 images so far.\n",
      "[INFO] Processed 6000 images so far.\n",
      "[INFO] Processed 7000 images so far.\n",
      "[INFO] Processed 8000 images so far.\n",
      "[INFO] Processed 9000 images so far.\n",
      "[INFO] Processed 10000 images so far.\n",
      "[INFO] Processed 11000 images so far.\n",
      "[INFO] Processed 12000 images so far.\n",
      "[INFO] Processed 13000 images so far.\n",
      "[INFO] Processed 14000 images so far.\n",
      "[INFO] Processed 15000 images so far.\n",
      "[INFO] Processed 16000 images so far.\n",
      "[INFO] Processed 17000 images so far.\n",
      "[INFO] Processed 18000 images so far.\n",
      "[INFO] Processed 19000 images so far.\n",
      "[INFO] Processed 20000 images so far.\n",
      "[INFO] Processed 21000 images so far.\n",
      "[INFO] Processed 22000 images so far.\n",
      "[INFO] Processed 23000 images so far.\n",
      "[INFO] Processed 24000 images so far.\n",
      "[INFO] Processed 25000 images so far.\n",
      "[INFO] Processed 26000 images so far.\n",
      "[INFO] Processed 27000 images so far.\n",
      "[INFO] Processed 28000 images so far.\n",
      "[INFO] Processed 29000 images so far.\n",
      "[INFO] Processed 30000 images so far.\n",
      "[INFO] Processed 31000 images so far.\n",
      "[INFO] Processed 32000 images so far.\n",
      "[INFO] Processed 33000 images so far.\n",
      "[INFO] Processed 34000 images so far.\n",
      "[INFO] Processed 35000 images so far.\n",
      "Finished loading dataset.\n",
      "############## Training KNN ##############\n",
      "KNN accuracy: 99.56338028169014 %\n"
     ]
    },
    {
     "data": {
      "text/plain": [
       "'\\nYou should get the following test accuracies the first time \\n\\nSVM accuracy ~ 97.70833333333333\\nKNN accuracy ~ 96.52777777777779\\nNN accuracy ~ 93.95833333333333\\n'"
      ]
     },
     "execution_count": 13,
     "metadata": {},
     "output_type": "execute_result"
    }
   ],
   "source": [
    "run_experiment()\n",
    "\"\"\"\n",
    "You should get the following test accuracies the first time \n",
    "\n",
    "SVM accuracy ~ 97.70833333333333\n",
    "KNN accuracy ~ 96.52777777777779\n",
    "NN accuracy ~ 93.95833333333333\n",
    "\"\"\""
   ]
  },
  {
   "cell_type": "code",
   "execution_count": 14,
   "metadata": {},
   "outputs": [
    {
     "data": {
      "image/png": "[encoded data removed]",
      "text/plain": [
       "<Figure size 640x480 with 1 Axes>"
      ]
     },
     "metadata": {},
     "output_type": "display_data"
    }
   ],
   "source": [
    "# Example\n",
    "test_img_path = r'template/number3.png'\n",
    "img = cv2.imread(test_img_path)\n",
    "temp = np.copy(img)\n",
    "img [temp <= 150] = 0\n",
    "img [temp > 150] = 255\n",
    "show_images([img])\n",
    "features = extract_hog_features(img)  # be careful of the choice of feature set"
   ]
  },
  {
   "cell_type": "code",
   "execution_count": 123,
   "metadata": {},
   "outputs": [
    {
     "data": {
      "image/png": "[encoded data removed]",
      "text/plain": [
       "<Figure size 1000x500 with 7 Axes>"
      ]
     },
     "metadata": {},
     "output_type": "display_data"
    }
   ],
   "source": [
    "\n",
    "def segment_characters(image_path, output_directory):\n",
    "    \"\"\"\n",
    "    Segments characters from an image and saves them as individual images.\n",
    "\n",
    "    Args:\n",
    "        image_path (str): Path to the input image.\n",
    "        output_directory (str): Directory to save the segmented character images.\n",
    "\n",
    "    Returns:\n",
    "        list: List of segmented character images as numpy arrays.\n",
    "    \"\"\"\n",
    "    # Load the image\n",
    "    image = cv2.imread(image_path, cv2.IMREAD_GRAYSCALE)\n",
    "\n",
    "    # Apply binary thresholding\n",
    "    _, binary_image = cv2.threshold(image, 128, 255, cv2.THRESH_BINARY_INV)\n",
    "\n",
    "    # Find contours of the characters\n",
    "    contours, _ = cv2.findContours(binary_image, cv2.RETR_TREE, cv2.CHAIN_APPROX_SIMPLE)\n",
    "    \n",
    "    # Sort contours from left to right\n",
    "    sorted_contours = sorted(contours, key=lambda ctr: cv2.boundingRect(ctr)[0])\n",
    "\n",
    "    # Initialize list to store segmented characters\n",
    "    segmented_characters = []\n",
    "\n",
    "    # Loop through contours and extract individual characters\n",
    "    for i, contour in enumerate(sorted_contours):\n",
    "        width, height = image.shape\n",
    "        x, y, w, h = cv2.boundingRect(contour)\n",
    "        # Filter out small contours\n",
    "        if w > width/10 and h > height/10 and w < width*3/4 and h < height*1/5:\n",
    "            char_image = binary_image[y:y+h, x:x+w]\n",
    "            segmented_characters.append(char_image)\n",
    "            # Save the segmented character image\n",
    "            cv2.imwrite(f\"{output_directory}/char_{i}.png\", char_image)\n",
    "\n",
    "    return segmented_characters\n",
    "\n",
    "# Example usage\n",
    "image_path = \"../trial-2/outputs/output-3.png\"\n",
    "img = cv2.imread(image_path)\n",
    "output_directory = \"/mnt/data/segmented_chars\"\n",
    "segmented_characters = segment_characters(image_path, output_directory)\n",
    "\n",
    "# Display segmented characters\n",
    "plt.figure(figsize=(10, 5))\n",
    "for i, char_image in enumerate(segmented_characters):\n",
    "    plt.subplot(1, len(segmented_characters), i + 1)\n",
    "    plt.imshow(char_image, cmap='gray')\n",
    "    plt.axis(\"off\")\n",
    "    \n",
    "plt.show()\n"
   ]
  },
  {
   "cell_type": "code",
   "execution_count": 124,
   "metadata": {},
   "outputs": [
    {
     "name": "stdout",
     "output_type": "stream",
     "text": [
      "['M']\n",
      "['H']\n",
      "['T']\n",
      "['3']\n",
      "['3']\n",
      "['8']\n",
      "['E']\n"
     ]
    }
   ],
   "source": [
    "knn = classifiers['KNN']\n",
    "\n",
    "for i, char_image in enumerate(segmented_characters):\n",
    "    features = extract_hog_features(char_image)\n",
    "    print(knn.predict([features]))"
   ]
  }
 ],
 "metadata": {
  "kernelspec": {
   "display_name": "base",
   "language": "python",
   "name": "python3"
  },
  "language_info": {
   "codemirror_mode": {
    "name": "ipython",
    "version": 3
   },
   "file_extension": ".py",
   "mimetype": "text/x-python",
   "name": "python",
   "nbconvert_exporter": "python",
   "pygments_lexer": "ipython3",
   "version": "3.12.2"
  }
 },
 "nbformat": 4,
 "nbformat_minor": 2
}
