{
 "cells": [
  {
   "cell_type": "code",
   "execution_count": 1,
   "metadata": {},
   "outputs": [],
   "source": [
    "from commonfunctions import *"
   ]
  },
  {
   "cell_type": "code",
   "execution_count": 2,
   "metadata": {},
   "outputs": [],
   "source": [
    "from sklearn.neighbors import KNeighborsClassifier\n",
    "from sklearn.neural_network import MLPClassifier  # MLP is an NN\n",
    "from sklearn import svm\n",
    "import numpy as np\n",
    "import argparse\n",
    "import cv2\n",
    "import os\n",
    "import random\n",
    "\n",
    "\n",
    "# Depending on library versions on your system, one of the following imports \n",
    "from sklearn.model_selection import train_test_split\n",
    "#from sklearn.cross_validation import train_test_split"
   ]
  },
  {
   "cell_type": "code",
   "execution_count": 3,
   "metadata": {},
   "outputs": [],
   "source": [
    "path_to_dataset = r'digits_dataset'\n",
    "target_img_size = (32, 32) # fix image size because classification algorithms THAT WE WILL USE HERE expect that\n",
    "\n",
    "# We are going to fix the random seed to make our experiments reproducible \n",
    "# since some algorithms use pseudorandom generators\n",
    "random_seed = 42  \n",
    "random.seed(random_seed)\n",
    "np.random.seed(random_seed)"
   ]
  },
  {
   "cell_type": "code",
   "execution_count": 4,
   "metadata": {},
   "outputs": [],
   "source": [
    "def extract_hog_features(img):\n",
    "    \"\"\"\n",
    "    TODO\n",
    "    You won't implement anything in this function. You just need to understand it \n",
    "    and understand its parameters (i.e win_size, cell_size, ... etc)\n",
    "    \"\"\"\n",
    "    img = cv2.resize(img, target_img_size)\n",
    "    win_size = (32, 32)\n",
    "    cell_size = (4, 4)\n",
    "    block_size_in_cells = (2, 2)\n",
    "    \n",
    "    block_size = (block_size_in_cells[1] * cell_size[1], block_size_in_cells[0] * cell_size[0])\n",
    "    block_stride = (cell_size[1], cell_size[0])\n",
    "    nbins = 9  # Number of orientation bins\n",
    "    hog = cv2.HOGDescriptor(win_size, block_size, block_stride, cell_size, nbins)\n",
    "    h = hog.compute(img)\n",
    "    h = h.flatten()\n",
    "    return h.flatten()"
   ]
  },
  {
   "cell_type": "code",
   "execution_count": 5,
   "metadata": {},
   "outputs": [],
   "source": [
    "def load_dataset():\n",
    "    features = []\n",
    "    labels = []\n",
    "\n",
    "    # Iterate through subfolders (assume folder name is the label)\n",
    "    for label_folder in os.listdir(path_to_dataset):\n",
    "        label_path = os.path.join(path_to_dataset, label_folder)\n",
    "        \n",
    "        # Ensure it's a directory (skip files)\n",
    "        if not os.path.isdir(label_path):\n",
    "            continue\n",
    "        \n",
    "        # Extract label from the folder name\n",
    "        label = label_folder\n",
    "        \n",
    "        # Iterate through the images in the folder\n",
    "        for img_filename in os.listdir(label_path):\n",
    "            if img_filename.lower().endswith('.jpg'):  # Process only .jpg files\n",
    "                img_path = os.path.join(label_path, img_filename)\n",
    "                \n",
    "                # Read image\n",
    "                img = cv2.imread(img_path)\n",
    "                \n",
    "                # Extract features (e.g., HOG features)\n",
    "                features.append(extract_hog_features(img))\n",
    "                \n",
    "                # Append the label\n",
    "                labels.append(label)\n",
    "                \n",
    "                # Show an update every 1,000 images\n",
    "                if len(features) % 1000 == 0:\n",
    "                    print(f\"[INFO] Processed {len(features)} images so far.\")\n",
    "\n",
    "    return features, labels\n"
   ]
  },
  {
   "cell_type": "code",
   "execution_count": 6,
   "metadata": {},
   "outputs": [],
   "source": [
    "# TODO understand the hyperparameters of each classifier\n",
    "classifiers = {\n",
    "    'SVM': svm.LinearSVC(random_state=random_seed),\n",
    "    'KNN': KNeighborsClassifier(n_neighbors=7),\n",
    "    'NN': MLPClassifier(solver='sgd', random_state=random_seed, hidden_layer_sizes=(500,), max_iter=20, verbose=1)\n",
    "}"
   ]
  },
  {
   "cell_type": "code",
   "execution_count": 7,
   "metadata": {},
   "outputs": [],
   "source": [
    "# This function will test all our classifiers on a specific feature set\n",
    "def run_experiment():\n",
    "    \n",
    "    # Load dataset with extracted features\n",
    "    print('Loading dataset. This will take time ...')\n",
    "    features, labels = load_dataset()\n",
    "    print('Finished loading dataset.')\n",
    "    \n",
    "    # Since we don't want to know the performance of our classifier on images it has seen before\n",
    "    # we are going to withhold some images that we will test the classifier on after training \n",
    "    train_features, test_features, train_labels, test_labels = train_test_split(\n",
    "        features, labels, test_size=0.2, random_state=random_seed)\n",
    "    \n",
    "    for model_name, model in classifiers.items():\n",
    "        print('############## Training', model_name, \"##############\")\n",
    "        # Train the model only on the training features\n",
    "        model.fit(train_features, train_labels)\n",
    "        \n",
    "        # Test the model on images it hasn't seen before\n",
    "        accuracy = model.score(test_features, test_labels)\n",
    "        \n",
    "        print(model_name, 'accuracy:', accuracy*100, '%')"
   ]
  },
  {
   "cell_type": "code",
   "execution_count": 8,
   "metadata": {},
   "outputs": [
    {
     "name": "stdout",
     "output_type": "stream",
     "text": [
      "Loading dataset. This will take time ...\n",
      "[INFO] Processed 1000 images so far.\n",
      "[INFO] Processed 2000 images so far.\n",
      "[INFO] Processed 3000 images so far.\n",
      "[INFO] Processed 4000 images so far.\n",
      "[INFO] Processed 5000 images so far.\n",
      "[INFO] Processed 6000 images so far.\n",
      "[INFO] Processed 7000 images so far.\n",
      "[INFO] Processed 8000 images so far.\n",
      "[INFO] Processed 9000 images so far.\n",
      "[INFO] Processed 10000 images so far.\n",
      "[INFO] Processed 11000 images so far.\n",
      "[INFO] Processed 12000 images so far.\n",
      "[INFO] Processed 13000 images so far.\n",
      "[INFO] Processed 14000 images so far.\n",
      "[INFO] Processed 15000 images so far.\n",
      "[INFO] Processed 16000 images so far.\n",
      "[INFO] Processed 17000 images so far.\n",
      "[INFO] Processed 18000 images so far.\n",
      "[INFO] Processed 19000 images so far.\n",
      "[INFO] Processed 20000 images so far.\n",
      "[INFO] Processed 21000 images so far.\n",
      "[INFO] Processed 22000 images so far.\n",
      "[INFO] Processed 23000 images so far.\n",
      "[INFO] Processed 24000 images so far.\n",
      "[INFO] Processed 25000 images so far.\n",
      "[INFO] Processed 26000 images so far.\n",
      "[INFO] Processed 27000 images so far.\n",
      "[INFO] Processed 28000 images so far.\n",
      "[INFO] Processed 29000 images so far.\n",
      "[INFO] Processed 30000 images so far.\n",
      "[INFO] Processed 31000 images so far.\n",
      "[INFO] Processed 32000 images so far.\n",
      "[INFO] Processed 33000 images so far.\n",
      "[INFO] Processed 34000 images so far.\n",
      "[INFO] Processed 35000 images so far.\n",
      "Finished loading dataset.\n",
      "############## Training SVM ##############\n",
      "SVM accuracy: 99.84507042253522 %\n",
      "############## Training KNN ##############\n",
      "KNN accuracy: 99.56338028169014 %\n",
      "############## Training NN ##############\n",
      "Iteration 1, loss = 3.41117258\n",
      "Iteration 2, loss = 3.05569791\n",
      "Iteration 3, loss = 2.66287128\n",
      "Iteration 4, loss = 2.25646482\n",
      "Iteration 5, loss = 1.87982613\n",
      "Iteration 6, loss = 1.56130855\n",
      "Iteration 7, loss = 1.30804691\n",
      "Iteration 8, loss = 1.11183910\n",
      "Iteration 9, loss = 0.96012921\n",
      "Iteration 10, loss = 0.84212952\n",
      "Iteration 11, loss = 0.74869782\n",
      "Iteration 12, loss = 0.67358119\n",
      "Iteration 13, loss = 0.61171203\n",
      "Iteration 14, loss = 0.56035119\n",
      "Iteration 15, loss = 0.51702824\n",
      "Iteration 16, loss = 0.48001207\n",
      "Iteration 17, loss = 0.44804888\n",
      "Iteration 18, loss = 0.42004761\n",
      "Iteration 19, loss = 0.39549178\n",
      "Iteration 20, loss = 0.37363739\n"
     ]
    },
    {
     "name": "stderr",
     "output_type": "stream",
     "text": [
      "/opt/homebrew/anaconda3/lib/python3.12/site-packages/sklearn/neural_network/_multilayer_perceptron.py:690: ConvergenceWarning: Stochastic Optimizer: Maximum iterations (20) reached and the optimization hasn't converged yet.\n",
      "  warnings.warn(\n"
     ]
    },
    {
     "name": "stdout",
     "output_type": "stream",
     "text": [
      "NN accuracy: 94.84507042253522 %\n"
     ]
    },
    {
     "data": {
      "text/plain": [
       "'\\nYou should get the following test accuracies the first time \\n\\nSVM accuracy ~ 97.70833333333333\\nKNN accuracy ~ 96.52777777777779\\nNN accuracy ~ 93.95833333333333\\n'"
      ]
     },
     "execution_count": 8,
     "metadata": {},
     "output_type": "execute_result"
    }
   ],
   "source": [
    "run_experiment()\n",
    "\"\"\"\n",
    "You should get the following test accuracies the first time \n",
    "\n",
    "SVM accuracy ~ 97.70833333333333\n",
    "KNN accuracy ~ 96.52777777777779\n",
    "NN accuracy ~ 93.95833333333333\n",
    "\"\"\""
   ]
  },
  {
   "cell_type": "code",
   "execution_count": 11,
   "metadata": {},
   "outputs": [
    {
     "data": {
      "image/png": "[encoded data removed]",
      "text/plain": [
       "<Figure size 640x480 with 1 Axes>"
      ]
     },
     "metadata": {},
     "output_type": "display_data"
    }
   ],
   "source": [
    "# Example\n",
    "test_img_path = r'template/number1.png'\n",
    "img = cv2.imread(test_img_path)\n",
    "temp = np.copy(img)\n",
    "img [temp <= 150] = 0\n",
    "img [temp > 150] = 255\n",
    "show_images([img])\n",
    "features = extract_hog_features(img)  # be careful of the choice of feature set"
   ]
  },
  {
   "cell_type": "code",
   "execution_count": 12,
   "metadata": {},
   "outputs": [
    {
     "data": {
      "text/plain": [
       "array([[2.62499501e-02, 4.74728320e-01, 6.22495488e-02, 1.15173868e-02,\n",
       "        2.41735315e-03, 1.14073453e-02, 1.54701877e-04, 8.63596562e-02,\n",
       "        1.26899659e-03, 9.56963583e-03, 1.63458463e-02, 7.70671959e-04,\n",
       "        1.69596045e-03, 1.42127494e-02, 6.90923903e-04, 2.89264665e-04,\n",
       "        1.77239374e-04, 1.38134122e-04, 1.83921582e-02, 2.10989237e-01,\n",
       "        2.63795905e-05, 1.82050537e-03, 2.09196161e-04, 3.29910534e-04,\n",
       "        2.45410389e-04, 2.37243743e-02, 8.64593121e-05, 1.51661314e-03,\n",
       "        6.66449400e-03, 2.96371221e-03, 1.07527786e-03, 4.53435131e-03,\n",
       "        2.88706269e-04, 7.08657855e-04, 6.18087189e-03]])"
      ]
     },
     "execution_count": 12,
     "metadata": {},
     "output_type": "execute_result"
    }
   ],
   "source": [
    "nn = classifiers['NN']\n",
    "nn.predict_proba([features])"
   ]
  }
 ],
 "metadata": {
  "kernelspec": {
   "display_name": "base",
   "language": "python",
   "name": "python3"
  },
  "language_info": {
   "codemirror_mode": {
    "name": "ipython",
    "version": 3
   },
   "file_extension": ".py",
   "mimetype": "text/x-python",
   "name": "python",
   "nbconvert_exporter": "python",
   "pygments_lexer": "ipython3",
   "version": "3.12.2"
  }
 },
 "nbformat": 4,
 "nbformat_minor": 2
}
